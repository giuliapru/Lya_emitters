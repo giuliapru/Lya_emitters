{
 "cells": [
  {
   "cell_type": "code",
   "execution_count": 1,
   "id": "ab790600-288a-42ce-af1e-3b323fd27282",
   "metadata": {},
   "outputs": [
    {
     "name": "stdout",
     "output_type": "stream",
     "text": [
      "Populating the interactive namespace from numpy and matplotlib\n"
     ]
    }
   ],
   "source": [
    "%pylab inline\n",
    "import h5py\n",
    "from astropy.cosmology import Planck15 as cosmo\n",
    "from astropy.cosmology import FlatLambdaCDM, z_at_value\n",
    "import astropy.units as u\n",
    "import scipy.constants as const\n",
    "\n",
    "#cosmological parameters from simulation\n",
    "myfile1='/cosma7/data/Eagle/ScienceRuns/Planck1/L0100N1504/PE/REFERENCE/data/groups_012_z003p017/eagle_subfind_tab_012_z003p017.0.hdf5'\n",
    "myfile = h5py.File(myfile1, 'r')\n",
    "H_const = myfile['Header'].attrs['HubbleParam']\n",
    "Omega0 = myfile['Header'].attrs['Omega0']\n",
    "z_sim = myfile['Header'].attrs['Redshift']\n",
    "myfile.close()\n",
    "cosmo = FlatLambdaCDM(H0 = H_const*100, Om0 = Omega0)\n",
    "\n",
    "#comoving distance between a galaxy at a certain redshift and the redshift of the simulation\n",
    "def diff_comoving_distance(z1): \n",
    "    return -cosmo.comoving_distance(z_sim).value + cosmo.comoving_distance(z1).value\n",
    "\n",
    "#inverting the previous function, such that it associates a redshift given a distance to the centre\n",
    "#of the simulation box (that's why I have -50, so that if a galaxy is at 50 Mpc it's in the middle and\n",
    "#its redshift is the the redshift of the simulation\n",
    "def dist_to_redshift(pos): \n",
    "    return z_at_value(diff_comoving_distance, pos -50) \n",
    "\n",
    "Pos_Mpc_corr = np.genfromtxt('Pos_lumfun.txt')"
   ]
  },
  {
   "cell_type": "code",
   "execution_count": 67,
   "id": "5f32edbb-c14d-45d9-999f-050c7c0eb685",
   "metadata": {},
   "outputs": [
    {
     "name": "stdout",
     "output_type": "stream",
     "text": [
      "Number of galaxies inside the box:  152496\n"
     ]
    }
   ],
   "source": [
    "#limits for a smaller box\n",
    "lim_inf = 0\n",
    "lim_sup = 100\n",
    "L_box = lim_sup-lim_inf\n",
    "z_inf = dist_to_redshift(lim_inf)\n",
    "z_sup = dist_to_redshift(lim_sup)\n",
    "tot_vol = (lim_sup-lim_inf)**3\n",
    "\n",
    "#selecting galaxies inside a smaller box\n",
    "ind = []\n",
    "for i in range(len(Pos_Mpc_corr)):\n",
    "    if lim_inf<Pos_Mpc_corr[i,0]<lim_sup and lim_inf<Pos_Mpc_corr[i,1]<lim_sup and lim_inf<Pos_Mpc_corr[i,2]<lim_sup:\n",
    "        ind.append('True')\n",
    "    else:\n",
    "        ind.append('False')\n",
    "ind = np.array(ind)\n",
    "\n",
    "Pos_Mpc_corr_red = Pos_Mpc_corr[ind=='True'][:]\n",
    "Ngal = len(Pos_Mpc_corr_red)\n",
    "print('Number of galaxies inside the box: ', len(Pos_Mpc_corr_red))\n",
    "\n",
    "#projected distance with boundary conditions\n",
    "def proj_dist(pos1, pos2):\n",
    "    dist = np.sqrt((pos1[0]-pos2[0])**2 + (pos1[1]-pos2[1])**2)\n",
    "    if dist>L_box/2:\n",
    "        dist = np.abs(dist - L_box)\n",
    "    return dist"
   ]
  },
  {
   "cell_type": "code",
   "execution_count": 68,
   "id": "5b0792f5-e6cf-44db-97ef-a87c7fc9055b",
   "metadata": {},
   "outputs": [],
   "source": [
    "#extracting random galaxies\n",
    "random_gal = np.random.randint(0, len(Pos_Mpc_corr_red), 1000)\n",
    "\n",
    "#defining the bins\n",
    "bins = np.array([0.05, 0.1, 0.15, 0.2, 0.3, 0.5, 0.75, 1])\n",
    "Nbins = len(bins)-1\n",
    "bins_cen = (bins[1:]+bins[:-1])/2\n",
    "dvol = np.pi*(bins[1:]**2-bins[:-1]**2)*L_box\n",
    "\n",
    "#array of distances\n",
    "dd = np.zeros((len(random_gal),len(Pos_Mpc_corr_red)))\n",
    "\n",
    "for i in range(len(random_gal)):\n",
    "    for j in range(len(Pos_Mpc_corr_red)):\n",
    "        dd[i,j] = proj_dist(Pos_Mpc_corr_red[random_gal[i]], Pos_Mpc_corr_red[j])\n",
    "\n",
    "#number of galaxies in each bin\n",
    "dens_prof = np.zeros((len(random_gal), Nbins))\n",
    "for i in range(len(random_gal)):\n",
    "    for j in dd[i]:\n",
    "        for k in range(len(bins)-1):\n",
    "            if bins[k]<j<bins[k+1]:\n",
    "                dens_prof[i,k] += 1\n",
    "\n",
    "#normalize by the volume\n",
    "dens_prof = dens_prof/dvol\n",
    "\n",
    "#average density profile\n",
    "av_dens_prof = np.mean(dens_prof, axis=0)\n",
    "\n",
    "av_density= av_dens_prof/(Ngal/tot_vol)"
   ]
  },
  {
   "cell_type": "code",
   "execution_count": 75,
   "id": "23329c33-6a09-43a6-994e-17dd4722a944",
   "metadata": {},
   "outputs": [
    {
     "data": {
      "text/plain": [
       "[<matplotlib.lines.Line2D at 0x7f2355a362e8>]"
      ]
     },
     "execution_count": 75,
     "metadata": {},
     "output_type": "execute_result"
    },
    {
     "data": {
      "image/png": "[encoded data removed]",
      "text/plain": [
       "<Figure size 432x288 with 1 Axes>"
      ]
     },
     "metadata": {
      "needs_background": "light"
     },
     "output_type": "display_data"
    }
   ],
   "source": [
    "plt.plot(bins_cen*cosmo.h, av_density, '.k')\n",
    "plt.xscale('log')\n",
    "plt.yscale('log')\n",
    "\n",
    "xaxis= np.linspace(bins[0], bins[-1], 10)\n",
    "plt.plot(xaxis, 5*xaxis**(-1.1))"
   ]
  },
  {
   "cell_type": "code",
   "execution_count": 4,
   "id": "ef1390d6-5230-4c6c-978c-77de01f3af25",
   "metadata": {},
   "outputs": [
    {
     "data": {
      "text/plain": [
       "Text(0.5, 1.0, 'redshift')"
      ]
     },
     "execution_count": 4,
     "metadata": {},
     "output_type": "execute_result"
    },
    {
     "data": {
      "image/png": "[encoded data removed]",
      "text/plain": [
       "<Figure size 1080x360 with 3 Axes>"
      ]
     },
     "metadata": {
      "needs_background": "light"
     },
     "output_type": "display_data"
    }
   ],
   "source": [
    "#distribution of the evaluated distances\n",
    "fig, ax = plt.subplots(1,3, figsize=(15,5))\n",
    "ax[0].hist(d_DD, bins=20)\n",
    "ax[0].set_title('transverse distance (cMpc/h)')\n",
    "ax[1].hist((dv_DD), bins=20)\n",
    "ax[1].set_title('LOS distance (pMpc)')\n",
    "ax[2].hist(z_DD, bins=20)\n",
    "ax[2].set_title('redshift')"
   ]
  },
  {
   "cell_type": "code",
   "execution_count": 5,
   "id": "bd9dd3a3-092d-44af-9f48-38d21cb644bf",
   "metadata": {},
   "outputs": [
    {
     "name": "stdout",
     "output_type": "stream",
     "text": [
      "LOS bins [pMpc]  [0.01301927 0.16274084 0.22912043 0.32257528 0.45414898 0.63938965\n",
      " 0.90018726 1.26736038 1.78429799 2.51208684 3.53673002 4.97931005]\n",
      "Transverse bins [cMpc/h]  [0.04 0.15 0.25 0.35 0.45 0.6  0.8  1.  ]\n"
     ]
    }
   ],
   "source": [
    "###################################\n",
    "# Define Distances\n",
    "###################################\n",
    "# Define the binning in LOS direction\n",
    "#vmax   = 3000\n",
    "Nvbin  = 10\n",
    "# Convert LOS separation from km/s to pMpc\n",
    "vmin   = 50/cosmo.H(np.mean(zLAE)).value\n",
    "vlim   = np.max(dv_DD) #np.vmax/cosmo.H(np.mean(zLAE)).value  \n",
    "# Define log-spaced intervals of distance\n",
    "dvbin  = np.logspace(np.log10(vmin),np.log10(vlim),Nvbin+1)\n",
    "# Add a larger bin at the beginning of the array\n",
    "# where you do not expect to find many sources\n",
    "dvbin  = np.insert(dvbin,0,4/cosmo.H(np.mean(zLAE)).value)\n",
    "print('LOS bins [pMpc] ', dvbin)\n",
    "dvbin_cent = (dvbin[1:]+dvbin[:-1])/2.\t# pMpc\n",
    "xerr   = (dvbin[1:]-dvbin[:-1]) #pMPc bin width\n",
    "\n",
    "# Upper Integration Limit coinverted from a LOS velocity in km/s into [pMpc]\n",
    "#vuplim = vlim #500/cosmo.H(np.mean(zLAE)).value\t\n",
    "Nvbin += 1\t\t# Final number of bin\n",
    "\n",
    "# Define the binning in transverse direction\n",
    "dbin  = np.array([0.04,0.15,0.25,0.35,0.45,0.60, 0.80, 1.00])  #[cMpc/h]\n",
    "dbin_cent = (dbin[1:]+dbin[:-1])/2\t\t# [cMpc/h]\n",
    "Ndbin = len(dbin)-1\t# Final number of bin\n",
    "print('Transverse bins [cMpc/h] ', dbin)"
   ]
  },
  {
   "cell_type": "code",
   "execution_count": 13,
   "id": "2f073cf7-20ed-4c08-836b-6b00b4e52cac",
   "metadata": {},
   "outputs": [
    {
     "name": "stdout",
     "output_type": "stream",
     "text": [
      "Starting Bootstrap ...\n",
      "1/20 [4.19656012 2.73824866 1.61339696 1.48856854 1.66937618 1.04124395\n",
      " 1.28708987]\n",
      "2/20 [4.97710641 2.51113725 1.54997512 1.84092048 1.5851147  1.11293923\n",
      " 1.34198555]\n",
      "3/20 [4.56371848 2.15609628 1.42941848 1.60139831 1.41704965 1.06462186\n",
      " 1.14835118]\n",
      "4/20 [5.06797331 3.09012626 1.8829977  1.80180174 1.62781168 1.31618918\n",
      " 1.53149507]\n",
      "5/20 [5.62140133 2.57095824 1.80969168 1.81265851 1.44808865 1.42463394\n",
      " 1.34138769]\n",
      "6/20 [5.54435808 2.77781544 1.68148323 1.96042944 1.56526062 1.05367844\n",
      " 1.25736516]\n",
      "7/20 [5.62258623 2.21734275 1.51723984 1.76124014 1.46317016 1.17789916\n",
      " 1.32414985]\n",
      "8/20 [5.12042506 2.12477926 1.41348494 1.40322835 1.47797242 1.27808238\n",
      " 1.27422897]\n",
      "9/20 [5.0083233  2.39229869 1.52368929 1.48415359 1.47880504 1.11819392\n",
      " 1.04962244]\n",
      "10/20 [5.2277662  2.73001256 1.29430256 1.80774069 1.468538   1.12073007\n",
      " 1.23734268]\n",
      "11/20 [5.13080375 2.52511476 2.15994768 1.6197567  1.73817988 1.16337018\n",
      " 1.40085545]\n",
      "12/20 [5.66247065 2.7602956  1.62485943 1.72848425 1.51992055 1.18446434\n",
      " 1.27497909]\n",
      "13/20 [5.68577259 3.07980651 1.62554074 1.67135282 1.52216916 1.1173133\n",
      " 1.24262472]\n",
      "14/20 [6.16201697 2.27394336 1.84614116 1.78261542 1.56786348 1.05337828\n",
      " 1.202351  ]\n",
      "15/20 [4.46354427 2.2494717  1.748783   1.55641384 1.52608531 1.31190393\n",
      " 1.46908125]\n",
      "16/20 [4.96326264 2.48655673 1.59515323 1.97672057 1.53629883 1.30504466\n",
      " 1.44549443]\n",
      "17/20 [5.43637112 2.32659642 1.51113225 1.5107625  1.71144952 1.15215086\n",
      " 1.35853095]\n",
      "18/20 [5.6492703  2.44516804 1.61071317 1.6543632  1.57568397 1.27994498\n",
      " 1.32918983]\n",
      "19/20 [5.68185175 2.65707603 1.76181583 1.63598393 1.49899608 1.07392228\n",
      " 1.20311879]\n",
      "20/20 [5.82575733 1.99008205 1.40277126 1.61405361 1.54048675 1.2045398\n",
      " 1.28348306]\n"
     ]
    }
   ],
   "source": [
    "xi = "
   ]
  },
  {
   "cell_type": "code",
   "execution_count": 14,
   "id": "337bbe86-e57d-45ed-aa8a-ee23d851e63f",
   "metadata": {},
   "outputs": [
    {
     "name": "stdout",
     "output_type": "stream",
     "text": [
      "1531.0324046779365 km / (Mpc s)\n"
     ]
    }
   ],
   "source": [
    "print(np.max(dv_DD)*cosmo.H(z_sim))"
   ]
  },
  {
   "cell_type": "code",
   "execution_count": 15,
   "id": "d0015972-057e-45d6-9241-950d1ef9d991",
   "metadata": {},
   "outputs": [
    {
     "name": "stdout",
     "output_type": "stream",
     "text": [
      "[[4.19656012 2.73824866 1.61339696 1.48856854 1.66937618 1.04124395\n",
      "  1.28708987]\n",
      " [4.97710641 2.51113725 1.54997512 1.84092048 1.5851147  1.11293923\n",
      "  1.34198555]\n",
      " [4.56371848 2.15609628 1.42941848 1.60139831 1.41704965 1.06462186\n",
      "  1.14835118]\n",
      " [5.06797331 3.09012626 1.8829977  1.80180174 1.62781168 1.31618918\n",
      "  1.53149507]\n",
      " [5.62140133 2.57095824 1.80969168 1.81265851 1.44808865 1.42463394\n",
      "  1.34138769]\n",
      " [5.54435808 2.77781544 1.68148323 1.96042944 1.56526062 1.05367844\n",
      "  1.25736516]\n",
      " [5.62258623 2.21734275 1.51723984 1.76124014 1.46317016 1.17789916\n",
      "  1.32414985]\n",
      " [5.12042506 2.12477926 1.41348494 1.40322835 1.47797242 1.27808238\n",
      "  1.27422897]\n",
      " [5.0083233  2.39229869 1.52368929 1.48415359 1.47880504 1.11819392\n",
      "  1.04962244]\n",
      " [5.2277662  2.73001256 1.29430256 1.80774069 1.468538   1.12073007\n",
      "  1.23734268]\n",
      " [5.13080375 2.52511476 2.15994768 1.6197567  1.73817988 1.16337018\n",
      "  1.40085545]\n",
      " [5.66247065 2.7602956  1.62485943 1.72848425 1.51992055 1.18446434\n",
      "  1.27497909]\n",
      " [5.68577259 3.07980651 1.62554074 1.67135282 1.52216916 1.1173133\n",
      "  1.24262472]\n",
      " [6.16201697 2.27394336 1.84614116 1.78261542 1.56786348 1.05337828\n",
      "  1.202351  ]\n",
      " [4.46354427 2.2494717  1.748783   1.55641384 1.52608531 1.31190393\n",
      "  1.46908125]\n",
      " [4.96326264 2.48655673 1.59515323 1.97672057 1.53629883 1.30504466\n",
      "  1.44549443]\n",
      " [5.43637112 2.32659642 1.51113225 1.5107625  1.71144952 1.15215086\n",
      "  1.35853095]\n",
      " [5.6492703  2.44516804 1.61071317 1.6543632  1.57568397 1.27994498\n",
      "  1.32918983]\n",
      " [5.68185175 2.65707603 1.76181583 1.63598393 1.49899608 1.07392228\n",
      "  1.20311879]\n",
      " [5.82575733 1.99008205 1.40277126 1.61405361 1.54048675 1.2045398\n",
      "  1.28348306]]\n"
     ]
    }
   ],
   "source": [
    "print(wGG_boot)"
   ]
  },
  {
   "cell_type": "code",
   "execution_count": 20,
   "id": "5af00833-f49e-48a0-8837-8489c06d45e3",
   "metadata": {},
   "outputs": [
    {
     "name": "stdout",
     "output_type": "stream",
     "text": [
      "[5.33206866 2.49884699 1.61205507 1.66285801 1.53119207 1.15776052\n",
      " 1.28528646] [0.35863006 0.27039291 0.18754481 0.14993662 0.07859421 0.1195234\n",
      " 0.09733737]\n"
     ]
    },
    {
     "data": {
      "image/png": "[encoded data removed]",
      "text/plain": [
       "<Figure size 1440x360 with 7 Axes>"
      ]
     },
     "metadata": {
      "needs_background": "light"
     },
     "output_type": "display_data"
    }
   ],
   "source": [
    "fig, ax = plt.subplots(1,len(wGG_boot[0]), figsize=(20,5))\n",
    "med = np.zeros((len(ax)))\n",
    "for i in range(len(ax)):\n",
    "    ax[i].hist(wGG_boot[:20,i], bins=6)\n",
    "med = np.median(wGG_boot[:20], axis=0)\n",
    "sigma = (np.percentile(wGG_boot[:20], 84, axis = 0)  - np.percentile(wGG_boot[:20], 16, axis=0))/2          \n",
    "print(med, sigma)"
   ]
  },
  {
   "cell_type": "code",
   "execution_count": 21,
   "id": "515d136d-2d72-4133-b067-7a7b6ae3a7c4",
   "metadata": {},
   "outputs": [
    {
     "data": {
      "image/png": "[encoded data removed]",
      "text/plain": [
       "<Figure size 432x288 with 1 Axes>"
      ]
     },
     "metadata": {
      "needs_background": "light"
     },
     "output_type": "display_data"
    }
   ],
   "source": [
    "plt.errorbar(dbin_cent, med, sigma, marker='o', ls='', color='black')\n",
    "plt.xscale('log')\n",
    "plt.yscale('log')\n",
    "\n",
    "#x_axis = np.linspace(0.07, 0.6, 10)\n",
    "#plt.plot(x_axis, 0.04*(2.47/x_axis)**(1.5))"
   ]
  },
  {
   "cell_type": "code",
   "execution_count": 53,
   "id": "5fec7fcc-2746-4a4c-b48b-20197bffb458",
   "metadata": {},
   "outputs": [],
   "source": [
    "#### comparison with MAGG\n",
    "w_GG_comp = np.zeros((Nboot, Ndbin))\n",
    "\n",
    "for i in range(len(fGG_boot)):\n",
    "    for j in range(Ndbin):\n",
    "        for k in range(Nvbin):\n",
    "            if dvbin_cent[k]<500/cosmo.H(z_sim).value:\n",
    "                w_GG_comp[i,j] += fGG_boot[i,j,k]*xerr[k]\n",
    "                \n",
    "med_comp = np.median(w_GG_comp, axis=0)\n",
    "sigma_comp = (np.percentile(w_GG_comp, 84, axis=0) - np.percentile(w_GG_comp, 16, axis=0))/2"
   ]
  },
  {
   "cell_type": "code",
   "execution_count": 54,
   "id": "a0d8ad0a-eb39-4061-b2da-a993013ec632",
   "metadata": {},
   "outputs": [
    {
     "name": "stdout",
     "output_type": "stream",
     "text": [
      "[0.08788005 0.19593064 0.27584786 0.38836213 0.54676932 0.76978846\n",
      " 1.08377382 1.52582919 2.14819241 3.02440843 4.25802004]\n",
      "1.626128238372541 1.627408421285695\n",
      "[[4.20959119 3.22708018 2.18025175 1.64317416 1.56331298 1.08816382\n",
      "  0.98286831]\n",
      " [4.80099285 2.87742361 2.22608877 1.70183207 1.52833917 1.11833205\n",
      "  1.03503306]\n",
      " [4.58860236 2.98400694 2.04155541 1.70036025 1.47152934 1.12522703\n",
      "  0.97765625]\n",
      " [4.82549918 3.35007326 2.30759537 1.73738492 1.61002939 1.14343335\n",
      "  1.00302424]\n",
      " [5.19190558 2.95554077 2.26033542 1.61801029 1.51565016 1.22131542\n",
      "  0.96165259]\n",
      " [5.19857714 2.92846789 2.2117386  1.78206655 1.53170839 1.06753557\n",
      "  0.92148781]\n",
      " [5.4006971  2.70847465 2.16412512 1.56250084 1.57231887 1.14695683\n",
      "  0.95602679]\n",
      " [4.58516539 2.59688649 2.05750224 1.48653646 1.61547286 1.12834156\n",
      "  0.97894745]\n",
      " [4.9567712  2.67087148 2.38439744 1.60423158 1.60754392 1.15688409\n",
      "  0.94229581]\n",
      " [4.7886556  2.99880792 2.02572391 1.75486543 1.48672198 1.11448585\n",
      "  0.96586847]\n",
      " [4.82405364 2.85353589 2.60152068 1.57850811 1.55211677 1.1301165\n",
      "  1.01106373]\n",
      " [5.23324599 2.97207345 2.09963344 1.82710236 1.65246888 1.19072546\n",
      "  1.01552795]\n",
      " [5.40630815 3.37268459 2.34174023 1.62755275 1.61237781 1.15432534\n",
      "  0.98506062]\n",
      " [5.54605386 2.81378878 2.42369781 1.7303134  1.53711826 1.15764738\n",
      "  1.00337517]\n",
      " [4.25074564 2.83657941 2.26752383 1.46650446 1.43688723 1.19121018\n",
      "  0.95925696]\n",
      " [4.92448907 2.80749847 2.06667993 1.7440971  1.47713715 1.17047647\n",
      "  0.93499627]\n",
      " [5.14136827 2.82953045 2.11150514 1.49609414 1.58145304 1.12401154\n",
      "  1.0047909 ]\n",
      " [5.05221177 2.71904136 2.24011595 1.58896028 1.4986914  1.12300734\n",
      "  0.96014833]\n",
      " [5.6305063  3.10332449 2.40733298 1.68951659 1.57891609 1.16747364\n",
      "  1.04268538]\n",
      " [5.18976572 2.49990035 2.05452991 1.67418276 1.62234667 1.15308493\n",
      "  1.01835776]]\n"
     ]
    }
   ],
   "source": [
    "print(dvbin_cent)\n",
    "print(500/cosmo.H(z_sim).value, 500/cosmo.H(np.mean(zLAE)).value)\n",
    "print(w_GG_comp)"
   ]
  },
  {
   "cell_type": "code",
   "execution_count": 64,
   "id": "199fc8c0-e41d-4cb6-8840-b22a68e69fca",
   "metadata": {},
   "outputs": [
    {
     "name": "stdout",
     "output_type": "stream",
     "text": [
      "[0.39869728 0.19512326 0.1624109  0.09034374 0.06254156 0.02591865\n",
      " 0.02959669]\n"
     ]
    },
    {
     "data": {
      "text/plain": [
       "Text(0.5, 1.0, 'Projected correlation function')"
      ]
     },
     "execution_count": 64,
     "metadata": {},
     "output_type": "execute_result"
    },
    {
     "data": {
      "image/png": "[encoded data removed]",
      "text/plain": [
       "<Figure size 504x288 with 1 Axes>"
      ]
     },
     "metadata": {
      "needs_background": "light"
     },
     "output_type": "display_data"
    }
   ],
   "source": [
    "#MAGG comparison\n",
    "fig = plt.figure(figsize=(7,4))\n",
    "MAGG_cor = np.genfromtxt('MAGG_LAE_corr.txt')\n",
    "x_M = MAGG_cor[:,0]\n",
    "y_M = MAGG_cor[:,1]\n",
    "\n",
    "plt.errorbar(dbin_cent, med_comp, sigma_comp, marker='o', ls='', color='black', label='my points')\n",
    "plt.xscale('log')\n",
    "plt.yscale('log')\n",
    "print(sigma_comp)\n",
    "#plt.errorbar(dbin_cent, med, sigma, marker='o', ls='', color='red')\n",
    "\n",
    "#plt.plot(bin_cent, y_M, '.k')\n",
    "plt.xlim(0.045,1.00)\n",
    "plt.ylim(0.4, 110)\n",
    "\n",
    "plt.errorbar(dbin_cent[:-2], y_M, color='tab:green', marker='o', ls='', label='MAGG')\n",
    "plt.legend()\n",
    "plt.xlabel(r'R (cMpc h$^{-1}$)')\n",
    "plt.ylabel(r'$\\xi$(r)')\n",
    "plt.title('Projected correlation function')"
   ]
  },
  {
   "cell_type": "code",
   "execution_count": null,
   "id": "50a6bd2d-773e-4c3f-8302-ed922913e8a5",
   "metadata": {},
   "outputs": [],
   "source": []
  }
 ],
 "metadata": {
  "kernelspec": {
   "display_name": "Python 3",
   "language": "python",
   "name": "python3"
  },
  "language_info": {
   "codemirror_mode": {
    "name": "ipython",
    "version": 3
   },
   "file_extension": ".py",
   "mimetype": "text/x-python",
   "name": "python",
   "nbconvert_exporter": "python",
   "pygments_lexer": "ipython3",
   "version": "3.6.5"
  }
 },
 "nbformat": 4,
 "nbformat_minor": 5
}
