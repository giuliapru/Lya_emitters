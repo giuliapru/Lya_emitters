{
 "cells": [
  {
   "cell_type": "code",
   "execution_count": null,
   "id": "7a8c5636-b8e3-49fc-8f5f-c88c1bc04b76",
   "metadata": {},
   "outputs": [],
   "source": [
    "#def k_lambda(ll):\n",
    " #   Rv_mean = 4.05 \n",
    " #   Rv_sigma = 0.80\n",
    " #   Rv = np.random.normal(loc=Rv_mean, scale=Rv_sigma)\n",
    " #   k_lambda = 2.659(-2.156 + 1.509/ll - 0.198/(ll**2) + 0.011/(ll**3)) + Rv\n",
    "fig, ax = plt.subplots(1,1, figsize=(6,5))\n",
    "\n",
    "f_uv = np.zeros(len(Mass_stel))\n",
    "print(len(f), len(random_met))\n",
    "j=0\n",
    "for i in range(len(f_uv)):\n",
    "    if Mass_stel[i]>0:\n",
    "        f_uv[i] = 10**(random_met[j])\n",
    "        j=j+1\n",
    "    else:\n",
    "        f_uv[i] = 1\n",
    "\n",
    "L_UV = f_uv* L_1500\n",
    "print(L_UV)\n",
    "print(f_uv)\n",
    "M_UV_corr = -2.5*np.log10(L_UV*(lambda_ang*lambda_cm)/(4*c*np.pi*(10*pc)**2))-48.6\n",
    "av_binc1500, counts_c1500, zeros_c1500 = Lya_lumfunction(10**(M_UV_corr), 40)\n",
    "#print(av_binc1500, counts_c1500)\n",
    "ax.scatter(av_binc1500, counts_c1500, label='Simulation data with Chabrier coefficient')\n",
    "ax.set_xscale('log')\n",
    "ax.set_yscale('log')\n",
    "ax.set_xlabel('M_1500 dust corr')\n",
    "ax.set_ylabel(r'$\\phi$')\n",
    "ax.set_xlim(10**(-24),10**(-11))\n",
    "ax.plot(10**mag_space, schechter_fun(mag_space, Bow_par[0], Bow_par[1], Bow_par[2]), color='tab:green', label='Bowens et al. 2021')"
   ]
  },
  {
   "cell_type": "code",
   "execution_count": null,
   "id": "acbf24e0-a020-4b1f-b4a0-1222ad51ca1a",
   "metadata": {},
   "outputs": [],
   "source": [
    "beta_m = (random_met-0.11)/0.53\n",
    "beta_sigma = 1#np.abs((random_met/0.6)-(random_met-0.22)/0.46)\n",
    "print(beta_sigma)\n",
    "beta = np.random.normal(beta_m, beta_sigma)\n",
    "beta_lins = np.linspace(np.min(beta), np.max(beta),100)\n",
    "met_lins = beta_lins*0.53 + 0.11\n",
    "\n",
    "tau = (4.43 + 1.99*beta)/1.086\n",
    "print(tau)\n",
    "L_corr = L_1500[Mass_stel!=0]/np.exp(-tau)\n",
    "\n",
    "M_1500_c = -2.5*np.log10(L_corr*(lambda_ang*lambda_cm)/(4*c*np.pi*(10*pc)**2))-48.6\n",
    "binc1500, counts_c, zeros_c = Lya_lumfunction(10**(M_1500_c), 40)\n",
    "\n",
    "fig, ax = plt.subplots(1,2, figsize=(12,5))\n",
    "ax[0].scatter(beta, random_met, s=0.4)\n",
    "ax[0].plot(beta_lins, met_lins, c='tab:orange')\n",
    "ax[0].fill_between(beta_lins, 0.60*beta_lins, 0.46*beta_lins+0.22, alpha=0.2)\n",
    "\n",
    "ax[1].scatter(binc1500, counts_c, label='Simulation data with Chabrier coefficient')\n",
    "ax[1].set_xscale('log')\n",
    "ax[1].set_yscale('log')\n",
    "ax[1].set_xlabel('M_1500 dust corr')\n",
    "ax[1].set_ylabel(r'$\\phi$')\n",
    "#ax.set_xlim(10**(-24),10**(-11))\n",
    "ax[1].plot(10**mag_space, schechter_fun(mag_space, Bow_par[0], Bow_par[1], Bow_par[2]), color='tab:green', label='Bowens et al. 2021')\n",
    "#met_lins = 0.53*beta + 0.11\n",
    "#a1600 = 4.43+1.99*beta\n",
    "#plt.plot(beta, met_lins)\n",
    "#plt.ylim(-1.2, -0.2)\n",
    "#plt.fill_between(beta, 0.60*beta, 0.46*beta+0.22, alpha=0.2)\n",
    "#print(beta[-1], met_lins[-1])"
   ]
  }
 ],
 "metadata": {
  "kernelspec": {
   "display_name": "Python 3",
   "language": "python",
   "name": "python3"
  },
  "language_info": {
   "codemirror_mode": {
    "name": "ipython",
    "version": 3
   },
   "file_extension": ".py",
   "mimetype": "text/x-python",
   "name": "python",
   "nbconvert_exporter": "python",
   "pygments_lexer": "ipython3",
   "version": "3.6.5"
  }
 },
 "nbformat": 4,
 "nbformat_minor": 5
}
