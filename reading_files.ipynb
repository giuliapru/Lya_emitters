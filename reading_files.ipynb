{
 "cells": [
  {
   "cell_type": "code",
   "execution_count": 3,
   "metadata": {},
   "outputs": [
    {
     "name": "stdout",
     "output_type": "stream",
     "text": [
      "Populating the interactive namespace from numpy and matplotlib\n"
     ]
    }
   ],
   "source": [
    "%pylab inline"
   ]
  },
  {
   "cell_type": "code",
   "execution_count": 4,
   "metadata": {},
   "outputs": [
    {
     "name": "stderr",
     "output_type": "stream",
     "text": [
      "/cosma/local/Python/2.7.15/lib/python2.7/site-packages/h5py/__init__.py:75: UserWarning: h5py is running against HDF5 1.10.3 when it was built against 1.8.4, this may cause problems\n",
      "  '{0}.{1}.{2}'.format(*version.hdf5_built_version_tuple)\n"
     ]
    }
   ],
   "source": [
    "import h5py\n",
    "h5py.enable_ipython_completer()"
   ]
  },
  {
   "cell_type": "code",
   "execution_count": 5,
   "metadata": {},
   "outputs": [],
   "source": [
    "filename = '/cosma7/data/Eagle/ScienceRuns/Planck1/L0012N0188/PE/REFERENCE/data/groups_028_z000p000/eagle_subfind_tab_028_z000p000.0.hdf5'"
   ]
  },
  {
   "cell_type": "code",
   "execution_count": 6,
   "metadata": {},
   "outputs": [],
   "source": [
    "myfile = h5py.File(filename, 'r')"
   ]
  },
  {
   "cell_type": "code",
   "execution_count": 7,
   "metadata": {},
   "outputs": [
    {
     "name": "stdout",
     "output_type": "stream",
     "text": [
      "ApertureMeasurements\n",
      "BlackHoleMass\n",
      "BlackHoleMassAccretionRate\n",
      "CentreOfMass\n",
      "CentreOfPotential\n",
      "GasSpin\n",
      "GroupNumber\n",
      "HalfMassProjRad\n",
      "HalfMassRad\n",
      "IDMostBound\n",
      "InertiaTensor\n",
      "InitialMassWeightedBirthZ\n",
      "InitialMassWeightedStellarAge\n",
      "KineticEnergy\n",
      "Mass\n",
      "MassTwiceHalfMassRad\n",
      "MassType\n",
      "NSF\n",
      "SF\n",
      "StarFormationRate\n",
      "Stars\n",
      "StellarInitialMass\n",
      "StellarVelDisp\n",
      "StellarVelDisp_HalfMassProjRad\n",
      "SubGroupNumber\n",
      "SubLength\n",
      "SubLengthType\n",
      "SubOffset\n",
      "ThermalEnergy\n",
      "TotalEnergy\n",
      "Velocity\n",
      "Vmax\n",
      "VmaxRadius\n"
     ]
    }
   ],
   "source": [
    "for i in myfile['Subhalo']:\n",
    "    print(i)"
   ]
  },
  {
   "cell_type": "code",
   "execution_count": 8,
   "metadata": {},
   "outputs": [
    {
     "name": "stdout",
     "output_type": "stream",
     "text": [
      "ContaminationCount\n",
      "ContaminationMass\n",
      "FirstSubhaloID\n",
      "GroupCentreOfPotential\n",
      "GroupLength\n",
      "GroupMass\n",
      "GroupOffset\n",
      "Group_M_Crit200\n",
      "Group_M_Crit2500\n",
      "Group_M_Crit500\n",
      "Group_M_Mean200\n",
      "Group_M_Mean2500\n",
      "Group_M_Mean500\n",
      "Group_M_TopHat200\n",
      "Group_R_Crit200\n",
      "Group_R_Crit2500\n",
      "Group_R_Crit500\n",
      "Group_R_Mean200\n",
      "Group_R_Mean2500\n",
      "Group_R_Mean500\n",
      "Group_R_TopHat200\n",
      "NumOfSubhalos\n"
     ]
    }
   ],
   "source": [
    "for i in myfile['FOF']:\n",
    "    print(i)"
   ]
  },
  {
   "cell_type": "code",
   "execution_count": 9,
   "metadata": {},
   "outputs": [
    {
     "name": "stdout",
     "output_type": "stream",
     "text": [
      "BoxSize\n",
      "E(z)\n",
      "ExpansionFactor\n",
      "Flag_Cooling\n",
      "Flag_DoublePrecision\n",
      "Flag_Feedback\n",
      "Flag_IC_Info\n",
      "Flag_Metals\n",
      "Flag_Sfr\n",
      "Flag_StellarAge\n",
      "H(z)\n",
      "HubbleParam\n",
      "MassTable\n",
      "NTask\n",
      "Ngroups\n",
      "Nids\n",
      "Nsubgroups\n",
      "NumFilesPerSnapshot\n",
      "NumPart_ThisFile\n",
      "NumPart_Total\n",
      "NumPart_Total_HighWord\n",
      "Omega0\n",
      "OmegaBaryon\n",
      "OmegaLambda\n",
      "Redshift\n",
      "RunLabel\n",
      "SendOffSetTask\n",
      "Time\n",
      "TotNgroups\n",
      "TotNids\n",
      "TotNsubgroups\n"
     ]
    }
   ],
   "source": [
    "for i in myfile['Header'].attrs:\n",
    "    print(i)"
   ]
  },
  {
   "cell_type": "code",
   "execution_count": 21,
   "metadata": {},
   "outputs": [],
   "source": [
    "myfile = h5py.File('/cosma7/data/Eagle/ScienceRuns/Planck1/L0012N0188/PE/REFERENCE/data/groups_028_z000p000/eagle_subfind_tab_028_z000p000.0.hdf5', 'r')\n",
    "generic_name = '/cosma7/data/Eagle/ScienceRuns/Planck1/L0012N0188/PE/REFERENCE/data/groups_028_z000p000/eagle_subfind_tab_028_z000p000.'\n",
    "NumFilesPerSnapshot = myfile['Header'].attrs['NumFilesPerSnapshot']\n",
    "myfile.close()\n",
    "\n",
    "\n",
    "FirstSubhaloID = []\n",
    "Pos = []\n",
    "SFR = []\n",
    "M200 = []\n",
    "MassType = []\n",
    "centrepot = []\n",
    "\n",
    "for i in range(NumFilesPerSnapshot):\n",
    "    filename = generic_name + '%d.hdf5'%i\n",
    "    myfile = h5py.File(filename, 'r')\n",
    "    \n",
    "    FirstSubhaloID.extend(myfile['FOF/FirstSubhaloID'][()])\n",
    "    Pos.append(myfile['Subhalo/CentreOfMass'][()])\n",
    "    SFR.extend(myfile['Subhalo/StarFormationRate'][()])\n",
    "    M200.extend(myfile['FOF/Group_M_Crit200'][()]* 1e10) \n",
    "    MassType.append(myfile['Subhalo/MassType'][()] * 1e10)\n",
    "    centrepot.append(myfile['Subhalo/CentreOfPotential'][()])\n",
    "    \n",
    "    myfile.close()\n"
   ]
  },
  {
   "cell_type": "code",
   "execution_count": 23,
   "metadata": {},
   "outputs": [],
   "source": [
    "Pos = np.vstack(Pos)\n",
    "MassType = np.vstack(MassType)\n",
    "SFR = np.asarray(SFR)\n",
    "M200 = np.asarray(M200)\n",
    "centrepot = np.vstack(centrepot)"
   ]
  },
  {
   "cell_type": "code",
   "execution_count": 12,
   "metadata": {},
   "outputs": [
    {
     "data": {
      "text/plain": [
       "(4948, 6)"
      ]
     },
     "execution_count": 12,
     "metadata": {},
     "output_type": "execute_result"
    }
   ],
   "source": [
    "np.shape(MassType)\n",
    "#0 = Gas mass\n",
    "#1 = Dark matter mass\n",
    "#4 = Stellar mass\n",
    "#5 = Black holes"
   ]
  },
  {
   "cell_type": "code",
   "execution_count": 13,
   "metadata": {},
   "outputs": [
    {
     "data": {
      "text/plain": [
       "(4948, 3)"
      ]
     },
     "execution_count": 13,
     "metadata": {},
     "output_type": "execute_result"
    }
   ],
   "source": [
    "np.shape(Pos)"
   ]
  },
  {
   "cell_type": "code",
   "execution_count": 14,
   "metadata": {},
   "outputs": [
    {
     "data": {
      "text/plain": [
       "[<matplotlib.lines.Line2D at 0x7fc126ea9a90>]"
      ]
     },
     "execution_count": 14,
     "metadata": {},
     "output_type": "execute_result"
    },
    {
     "data": {
      "image/png": "[encoded data removed]",
      "text/plain": [
       "<Figure size 432x288 with 1 Axes>"
      ]
     },
     "metadata": {},
     "output_type": "display_data"
    }
   ],
   "source": [
    "plt.plot(Pos[:,0], Pos[:,1],'k.', ms=1)\n",
    "plt.plot(Pos[FirstSubhaloID,0], Pos[FirstSubhaloID,1],'ro', ms=1)"
   ]
  },
  {
   "cell_type": "code",
   "execution_count": 15,
   "metadata": {},
   "outputs": [
    {
     "data": {
      "text/plain": [
       "[<matplotlib.lines.Line2D at 0x7fc126b39ed0>]"
      ]
     },
     "execution_count": 15,
     "metadata": {},
     "output_type": "execute_result"
    },
    {
     "data": {
      "image/png": "[encoded data removed]",
      "text/plain": [
       "<Figure size 432x288 with 1 Axes>"
      ]
     },
     "metadata": {},
     "output_type": "display_data"
    }
   ],
   "source": [
    "plt.plot(np.log10(M200+1), np.log10(SFR[FirstSubhaloID]+1e-6), 'k.')"
   ]
  },
  {
   "cell_type": "code",
   "execution_count": 16,
   "metadata": {},
   "outputs": [
    {
     "data": {
      "text/plain": [
       "[<matplotlib.lines.Line2D at 0x7fc126abf6d0>]"
      ]
     },
     "execution_count": 16,
     "metadata": {},
     "output_type": "execute_result"
    },
    {
     "data": {
      "image/png": "[encoded data removed]",
      "text/plain": [
       "<Figure size 432x288 with 1 Axes>"
      ]
     },
     "metadata": {},
     "output_type": "display_data"
    }
   ],
   "source": [
    "plt.plot(np.log10(MassType[FirstSubhaloID, 4]+1), np.log10(SFR[FirstSubhaloID]+1e-6), 'k.')"
   ]
  },
  {
   "cell_type": "code",
   "execution_count": 17,
   "metadata": {},
   "outputs": [
    {
     "name": "stderr",
     "output_type": "stream",
     "text": [
      "/cosma/local/Python/2.7.15/lib/python2.7/site-packages/ipykernel_launcher.py:1: RuntimeWarning: divide by zero encountered in log10\n",
      "  \"\"\"Entry point for launching an IPython kernel.\n"
     ]
    },
    {
     "data": {
      "text/plain": [
       "[<matplotlib.lines.Line2D at 0x7fc126a15a90>]"
      ]
     },
     "execution_count": 17,
     "metadata": {},
     "output_type": "execute_result"
    },
    {
     "data": {
      "image/png": "[encoded data removed]",
      "text/plain": [
       "<Figure size 432x288 with 1 Axes>"
      ]
     },
     "metadata": {},
     "output_type": "display_data"
    }
   ],
   "source": [
    "plt.plot(np.log10(M200))"
   ]
  },
  {
   "cell_type": "code",
   "execution_count": 18,
   "metadata": {},
   "outputs": [
    {
     "ename": "ValueError",
     "evalue": "Not a location (invalid object ID)",
     "output_type": "error",
     "traceback": [
      "\u001b[0;31m---------------------------------------------------------------------------\u001b[0m",
      "\u001b[0;31mValueError\u001b[0m                                Traceback (most recent call last)",
      "\u001b[0;32m<ipython-input-18-0734570247d1>\u001b[0m in \u001b[0;36m<module>\u001b[0;34m()\u001b[0m\n\u001b[0;32m----> 1\u001b[0;31m \u001b[0mFirstSubhaloID\u001b[0m \u001b[0;34m=\u001b[0m \u001b[0mmyfile\u001b[0m\u001b[0;34m[\u001b[0m\u001b[0;34m'FOF/FirstSubhaloID'\u001b[0m\u001b[0;34m]\u001b[0m\u001b[0;34m[\u001b[0m\u001b[0;34m(\u001b[0m\u001b[0;34m)\u001b[0m\u001b[0;34m]\u001b[0m\u001b[0;34m\u001b[0m\u001b[0m\n\u001b[0m",
      "\u001b[0;32mh5py/_objects.pyx\u001b[0m in \u001b[0;36mh5py._objects.with_phil.wrapper\u001b[0;34m()\u001b[0m\n",
      "\u001b[0;32mh5py/_objects.pyx\u001b[0m in \u001b[0;36mh5py._objects.with_phil.wrapper\u001b[0;34m()\u001b[0m\n",
      "\u001b[0;32m/cosma/local/Python/2.7.15/lib/python2.7/site-packages/h5py/_hl/group.pyc\u001b[0m in \u001b[0;36m__getitem__\u001b[0;34m(self, name)\u001b[0m\n\u001b[1;32m    260\u001b[0m                 \u001b[0;32mraise\u001b[0m \u001b[0mValueError\u001b[0m\u001b[0;34m(\u001b[0m\u001b[0;34m\"Invalid HDF5 object reference\"\u001b[0m\u001b[0;34m)\u001b[0m\u001b[0;34m\u001b[0m\u001b[0m\n\u001b[1;32m    261\u001b[0m         \u001b[0;32melse\u001b[0m\u001b[0;34m:\u001b[0m\u001b[0;34m\u001b[0m\u001b[0m\n\u001b[0;32m--> 262\u001b[0;31m             \u001b[0moid\u001b[0m \u001b[0;34m=\u001b[0m \u001b[0mh5o\u001b[0m\u001b[0;34m.\u001b[0m\u001b[0mopen\u001b[0m\u001b[0;34m(\u001b[0m\u001b[0mself\u001b[0m\u001b[0;34m.\u001b[0m\u001b[0mid\u001b[0m\u001b[0;34m,\u001b[0m \u001b[0mself\u001b[0m\u001b[0;34m.\u001b[0m\u001b[0m_e\u001b[0m\u001b[0;34m(\u001b[0m\u001b[0mname\u001b[0m\u001b[0;34m)\u001b[0m\u001b[0;34m,\u001b[0m \u001b[0mlapl\u001b[0m\u001b[0;34m=\u001b[0m\u001b[0mself\u001b[0m\u001b[0;34m.\u001b[0m\u001b[0m_lapl\u001b[0m\u001b[0;34m)\u001b[0m\u001b[0;34m\u001b[0m\u001b[0m\n\u001b[0m\u001b[1;32m    263\u001b[0m \u001b[0;34m\u001b[0m\u001b[0m\n\u001b[1;32m    264\u001b[0m         \u001b[0motype\u001b[0m \u001b[0;34m=\u001b[0m \u001b[0mh5i\u001b[0m\u001b[0;34m.\u001b[0m\u001b[0mget_type\u001b[0m\u001b[0;34m(\u001b[0m\u001b[0moid\u001b[0m\u001b[0;34m)\u001b[0m\u001b[0;34m\u001b[0m\u001b[0m\n",
      "\u001b[0;32mh5py/_objects.pyx\u001b[0m in \u001b[0;36mh5py._objects.with_phil.wrapper\u001b[0;34m()\u001b[0m\n",
      "\u001b[0;32mh5py/_objects.pyx\u001b[0m in \u001b[0;36mh5py._objects.with_phil.wrapper\u001b[0;34m()\u001b[0m\n",
      "\u001b[0;32mh5py/h5o.pyx\u001b[0m in \u001b[0;36mh5py.h5o.open\u001b[0;34m()\u001b[0m\n",
      "\u001b[0;31mValueError\u001b[0m: Not a location (invalid object ID)"
     ]
    }
   ],
   "source": [
    "FirstSubhaloID = myfile['FOF/FirstSubhaloID'][()]"
   ]
  },
  {
   "cell_type": "code",
   "execution_count": null,
   "metadata": {},
   "outputs": [],
   "source": [
    "FirstSubhaloID"
   ]
  },
  {
   "cell_type": "code",
   "execution_count": null,
   "metadata": {},
   "outputs": [],
   "source": [
    "SubhaloMass = myfile['Subhalo/Mass'][()]\n",
    "len(SubhaloMass)"
   ]
  },
  {
   "cell_type": "code",
   "execution_count": 30,
   "metadata": {},
   "outputs": [
    {
     "name": "stdout",
     "output_type": "stream",
     "text": [
      "0.7059136231740316\n"
     ]
    }
   ],
   "source": [
    "print(np.max(Pos[:,2]))/12"
   ]
  },
  {
   "cell_type": "code",
   "execution_count": null,
   "metadata": {},
   "outputs": [],
   "source": []
  },
  {
   "cell_type": "code",
   "execution_count": 31,
   "metadata": {},
   "outputs": [
    {
     "name": "stdout",
     "output_type": "stream",
     "text": [
      "0.6826748847961426\n"
     ]
    }
   ],
   "source": [
    "print(np.max(centrepot[0])/12)"
   ]
  },
  {
   "cell_type": "code",
   "execution_count": null,
   "metadata": {},
   "outputs": [],
   "source": []
  }
 ],
 "metadata": {
  "kernelspec": {
   "display_name": "Python 2",
   "language": "python",
   "name": "python2"
  },
  "language_info": {
   "codemirror_mode": {
    "name": "ipython",
    "version": 2
   },
   "file_extension": ".py",
   "mimetype": "text/x-python",
   "name": "python",
   "nbconvert_exporter": "python",
   "pygments_lexer": "ipython2",
   "version": "2.7.15"
  },
  "varInspector": {
   "cols": {
    "lenName": "16",
    "lenType": "16",
    "lenVar": "40"
   },
   "kernels_config": {
    "python": {
     "delete_cmd_postfix": "",
     "delete_cmd_prefix": "del ",
     "library": "var_list.py",
     "varRefreshCmd": "print(var_dic_list())"
    },
    "r": {
     "delete_cmd_postfix": ") ",
     "delete_cmd_prefix": "rm(",
     "library": "var_list.r",
     "varRefreshCmd": "cat(var_dic_list()) "
    }
   },
   "types_to_exclude": [
    "module",
    "function",
    "builtin_function_or_method",
    "instance",
    "_Feature"
   ],
   "window_display": false
  }
 },
 "nbformat": 4,
 "nbformat_minor": 4
}
